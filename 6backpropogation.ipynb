{
 "cells": [
  {
   "cell_type": "code",
   "execution_count": 4,
   "id": "cfdb93e5",
   "metadata": {},
   "outputs": [
    {
     "name": "stdout",
     "output_type": "stream",
     "text": [
      "Input: \n",
      "[[0.66666667 1.        ]\n",
      " [0.33333333 0.55555556]\n",
      " [1.         0.66666667]]\n",
      "Actual Output: \n",
      "[[0.92]\n",
      " [0.86]\n",
      " [0.89]]\n",
      "Predicted Output: \n",
      " [[0.89500204]\n",
      " [0.88083391]\n",
      " [0.8939834 ]]\n"
     ]
    }
   ],
   "source": [
    "import numpy as np\n",
    "X = np.array(([2, 9], [1, 5], [3, 6]), dtype=float)\n",
    "y = np.array(([92], [86], [89]), dtype=float)\n",
    "X = X / np.amax(X, axis=0)\n",
    "y = y / 100\n",
    "def sigmoid(x):\n",
    "    return 1 / (1 + np.exp(-x))\n",
    "def derivatives_sigmoid(x):\n",
    "    return x * (1 - x)\n",
    "epoch = 1000\n",
    "learning_rate = 0.6\n",
    "inputlayer_neurons = 2\n",
    "hiddenlayer_neurons = 3\n",
    "output_neurons = 1\n",
    "wh = np.random.uniform(size = (inputlayer_neurons,hiddenlayer_neurons))\n",
    "bh = np.random.uniform(size = (1, hiddenlayer_neurons))\n",
    "wo = np.random.uniform(size = (hiddenlayer_neurons,output_neurons))\n",
    "bo = np.random.uniform(size = (1, output_neurons))\n",
    "for i in range(epoch):\n",
    "    net_h = np.dot(X, wh) + bh\n",
    "    sigma_h = sigmoid(net_h)\n",
    "    net_o = np.dot(sigma_h, wo) + bo\n",
    "    output = sigmoid(net_o)\n",
    "    deltaK = (y - output) * derivatives_sigmoid(output)\n",
    "    deltaH = deltaK.dot(wo.T) * derivatives_sigmoid(sigma_h)\n",
    "    wo = wo + sigma_h.T.dot(deltaK) * learning_rate\n",
    "    wh = wh + X.T.dot(deltaH) * learning_rate\n",
    "print (\"Input: \\n\" + str(X))\n",
    "print (\"Actual Output: \\n\" + str(y))\n",
    "print (\"Predicted Output: \\n\", output)"
   ]
  },
  {
   "cell_type": "code",
   "execution_count": null,
   "id": "c28b9280",
   "metadata": {},
   "outputs": [],
   "source": []
  }
 ],
 "metadata": {
  "kernelspec": {
   "display_name": "Python 3",
   "language": "python",
   "name": "python3"
  },
  "language_info": {
   "codemirror_mode": {
    "name": "ipython",
    "version": 3
   },
   "file_extension": ".py",
   "mimetype": "text/x-python",
   "name": "python",
   "nbconvert_exporter": "python",
   "pygments_lexer": "ipython3",
   "version": "3.8.8"
  }
 },
 "nbformat": 4,
 "nbformat_minor": 5
}
