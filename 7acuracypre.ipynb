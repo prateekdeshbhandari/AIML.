#Assuming a set of documents that need to be classified,
#use the naïve Bayesian Classifier model to perform this task.
#Built-in Java classes/API can be used to write the program.
# Calculate the accuracy, precision, and recall for your data set.
    
    
import pandas as pd
from sklearn.model_selection import train_test_split
from sklearn.feature_extraction.text import CountVectorizer
from sklearn.naive_bayes import MultinomialNB
from sklearn import metrics

msg = pd.read_csv('naivetext.csv', names=['message', 'label'])
print("The dimension of the dataset", msg.shape)

msg['labelnum'] = msg.label.map({'pos': 1, 'neg': 0})

X = msg.message
y = msg.labelnum

print(X)
print(y)

X_train, X_test, y_train, y_test = train_test_split(X, y, test_size=0.3, random_state=42)
print("\n The total no of training data", y_train.shape)
print("\n The total no of testing data", y_test.shape)

vectorizer = CountVectorizer()
X_train_dtm = vectorizer.fit_transform(X_train)
X_test_dtm = vectorizer.transform(X_test)

print("\n The words or token in text document\n")
print(vectorizer.get_feature_names_out())

clf = MultinomialNB()
clf.fit(X_train_dtm, y_train)

y_pred = clf.predict(X_test_dtm)

print("\n Accuracy of Classifier", metrics.accuracy_score(y_test, y_pred))
print("\n Confusion Matrix")
print(metrics.confusion_matrix(y_test, y_pred))
print("\n The value of precision", metrics.precision_score(y_test, y_pred))
print("\n The value of recall", metrics.recall_score(y_test, y_pred))